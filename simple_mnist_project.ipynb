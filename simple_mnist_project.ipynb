{
  "nbformat": 4,
  "nbformat_minor": 0,
  "metadata": {
    "colab": {
      "name": "simple_mnist_project",
      "provenance": [],
      "collapsed_sections": []
    },
    "kernelspec": {
      "name": "python3",
      "display_name": "Python 3"
    },
    "language_info": {
      "name": "python"
    },
    "accelerator": "GPU"
  },
  "cells": [
    {
      "cell_type": "markdown",
      "metadata": {
        "id": "wheZsye5_B-G"
      },
      "source": [
        "\n",
        "Распознаем рукописную цифру, написанную на листе от руки.\n",
        "\n",
        "Последовательность шагов:\n",
        "1. На бумаге рисуем произвольную цифру (желательно нарисовать цифру размером не более 5 * 5 мм и без наклона)\n",
        "2. Фотографируем\n",
        "3. Загружаем фото\n",
        "4. С помощью функции image.load_img(path, target_size=(28, 28), color_mode = ‘grayscale’) загружаем картинку в переменную.\n",
        "5. С помощью функции image.img_to_array(img) преобразуем изображение в numpy-массив.\n",
        "6. Выполняем инверсию цветов, нормирование и решейп массива.\n",
        "7. Выполняем распознавание собственной рукописной цифры.\n"
      ]
    },
    {
      "cell_type": "markdown",
      "metadata": {
        "id": "dJ6VcALR6aUf"
      },
      "source": [
        "**импорт библиотек**"
      ]
    },
    {
      "cell_type": "code",
      "metadata": {
        "id": "UNvWuhNI6JW9"
      },
      "source": [
        "# импорт библиотек\n",
        "from tensorflow.keras.datasets import mnist # библиотека mnist из датасетов \n",
        "from tensorflow.keras.models import Sequential # класс Sequential из моделей \n",
        "from tensorflow.keras.layers import Dense # полносвязный слой Dense из слоев \n",
        "from tensorflow.keras.optimizers import Adam # оптимизатор из оптимайзеров\n",
        "from tensorflow.keras import utils # утилиты для функции to_categorical \n",
        "from tensorflow.keras.preprocessing import image # для отрисовки изображения\n",
        "import numpy as np # библиотека numpy\n",
        "import pylab # библитека для графиков\n",
        "from mpl_toolkits.mplot3d import Axes3D # построение трехмерных графиков\n",
        "from google.colab import files # работа с файлами в google colab\n",
        "import matplotlib.pyplot as plt # отрисовка изображений\n",
        "from PIL import Image # отрисовка изображений\n",
        "# отрисовывать графики в том же окне\n",
        "%matplotlib inline"
      ],
      "execution_count": 1,
      "outputs": []
    },
    {
      "cell_type": "markdown",
      "metadata": {
        "id": "1_gwsim-6k7W"
      },
      "source": [
        "**Загрузка базы mnist**"
      ]
    },
    {
      "cell_type": "code",
      "metadata": {
        "id": "Mw_UG_8W6Uxa",
        "colab": {
          "base_uri": "https://localhost:8080/"
        },
        "outputId": "de3dc228-e544-40c8-91b9-23960789d079"
      },
      "source": [
        "# загрузка данных mnist\n",
        "(x_train_org, y_train_org), (x_test_org, y_test_org) = mnist.load_data()"
      ],
      "execution_count": 2,
      "outputs": [
        {
          "output_type": "stream",
          "name": "stdout",
          "text": [
            "Downloading data from https://storage.googleapis.com/tensorflow/tf-keras-datasets/mnist.npz\n",
            "11493376/11490434 [==============================] - 0s 0us/step\n",
            "11501568/11490434 [==============================] - 0s 0us/step\n"
          ]
        }
      ]
    },
    {
      "cell_type": "markdown",
      "metadata": {
        "id": "-SiUtuYB6vCw"
      },
      "source": [
        "**Нормирование и преобразование x_train и y_train**"
      ]
    },
    {
      "cell_type": "code",
      "metadata": {
        "id": "0F7s-Ml6DL_i",
        "colab": {
          "base_uri": "https://localhost:8080/"
        },
        "outputId": "24422f7a-f498-4100-98a5-2689458108b5"
      },
      "source": [
        "# изменим размерность numpy массивов входных данных с 3-м мерных на 2-х мерные, \n",
        "# т.к. нам нужны 1 мерные массивы из векторов этих картинок\n",
        "# и сохраним изменные входные данные в новые \"иксы\"\n",
        "x_train = x_train_org.reshape(-1, 784) # 60000x784\n",
        "x_test = x_test_org.reshape(-1, 784) # 10000x784\n",
        "print('Новая размерность x_train:', x_train.shape)\n",
        "print('Новая размерность x_test:', x_test.shape)"
      ],
      "execution_count": 3,
      "outputs": [
        {
          "output_type": "stream",
          "name": "stdout",
          "text": [
            "Новая размерность x_train: (60000, 784)\n",
            "Новая размерность x_test: (10000, 784)\n"
          ]
        }
      ]
    },
    {
      "cell_type": "code",
      "metadata": {
        "id": "HbdeZ7BR6sml"
      },
      "source": [
        "# нормирование и преобразование типа в float входных данных обучающей и проверочной выборки\n",
        "# в x_train и x_test сохраним значение в долях от максимального (максимум пикселя это 255)\n",
        "x_train = x_train.astype('float32') / 255\n",
        "x_test = x_test.astype('float32') / 255"
      ],
      "execution_count": 4,
      "outputs": []
    },
    {
      "cell_type": "code",
      "metadata": {
        "id": "7d43KcHAC_tf"
      },
      "source": [
        "# преобразуем метки классов в категориальные методом One-Hot Encoding\n",
        "# для классов обучающей и проверочной выборки\n",
        "y_train = utils.to_categorical(y_train_org, 10) # для 10 классов \n",
        "y_test = utils.to_categorical(y_test_org, 10)   # для 10 классов"
      ],
      "execution_count": 5,
      "outputs": []
    },
    {
      "cell_type": "markdown",
      "metadata": {
        "id": "f8bZLgJ5OawU"
      },
      "source": [
        "**Создание нейронной сети**"
      ]
    },
    {
      "cell_type": "code",
      "metadata": {
        "id": "ieRTVhxzOdvW"
      },
      "source": [
        "model = Sequential()                                    # создаем модель прямого распространения\n",
        "model.add(Dense(800, input_dim=784, activation='relu')) # полносвязный слой, 800 нейронов, 784 параметра, активация relu\n",
        "model.add(Dense(400, activation='relu'))                # полносвязный слой, 400 нейронов, активация relu\n",
        "model.add(Dense(10,  activation='softmax'))             # полносвязный слой, 10 нейронов, активация softmax(суммарное значение равно 1)"
      ],
      "execution_count": 6,
      "outputs": []
    },
    {
      "cell_type": "code",
      "metadata": {
        "colab": {
          "base_uri": "https://localhost:8080/"
        },
        "id": "9IDadUpkIPKY",
        "outputId": "66c9479b-dfe3-4147-e460-3436ff174b1d"
      },
      "source": [
        "model.compile(loss='categorical_crossentropy', optimizer='adam', metrics=['accuracy']) # компилируем модель\n",
        "print(model.summary())                                                                 # вывод структуры модели"
      ],
      "execution_count": 7,
      "outputs": [
        {
          "output_type": "stream",
          "name": "stdout",
          "text": [
            "Model: \"sequential\"\n",
            "_________________________________________________________________\n",
            " Layer (type)                Output Shape              Param #   \n",
            "=================================================================\n",
            " dense (Dense)               (None, 800)               628000    \n",
            "                                                                 \n",
            " dense_1 (Dense)             (None, 400)               320400    \n",
            "                                                                 \n",
            " dense_2 (Dense)             (None, 10)                4010      \n",
            "                                                                 \n",
            "=================================================================\n",
            "Total params: 952,410\n",
            "Trainable params: 952,410\n",
            "Non-trainable params: 0\n",
            "_________________________________________________________________\n",
            "None\n"
          ]
        }
      ]
    },
    {
      "cell_type": "markdown",
      "metadata": {
        "id": "BVGJ2INdIh6B"
      },
      "source": [
        "**Обучение нейронной сети**"
      ]
    },
    {
      "cell_type": "code",
      "metadata": {
        "id": "-1VJ-bvqIhFa",
        "colab": {
          "base_uri": "https://localhost:8080/"
        },
        "outputId": "c4e5359c-ce52-4b02-fbc5-cbef6f6fd860"
      },
      "source": [
        "# x_train, y_train - входные и выходные данные обучающей выборки\n",
        "# batch_size - количество примеров после которых изменяем веса\n",
        "# epochs - количество итераций выполняемых со всей обучающей выборкой\n",
        "# verbose - выводить ход обучения\n",
        "model.fit(x_train, y_train, batch_size=128, epochs=15, verbose=1)\n",
        "\n",
        "# сохраним модель\n",
        "#model.save_weights('model.h5')\n"
      ],
      "execution_count": 8,
      "outputs": [
        {
          "output_type": "stream",
          "name": "stdout",
          "text": [
            "Epoch 1/15\n",
            "469/469 [==============================] - 4s 4ms/step - loss: 0.2050 - accuracy: 0.9392\n",
            "Epoch 2/15\n",
            "469/469 [==============================] - 2s 4ms/step - loss: 0.0757 - accuracy: 0.9760\n",
            "Epoch 3/15\n",
            "469/469 [==============================] - 2s 4ms/step - loss: 0.0466 - accuracy: 0.9853\n",
            "Epoch 4/15\n",
            "469/469 [==============================] - 2s 4ms/step - loss: 0.0344 - accuracy: 0.9889\n",
            "Epoch 5/15\n",
            "469/469 [==============================] - 2s 4ms/step - loss: 0.0252 - accuracy: 0.9919\n",
            "Epoch 6/15\n",
            "469/469 [==============================] - 2s 4ms/step - loss: 0.0203 - accuracy: 0.9931\n",
            "Epoch 7/15\n",
            "469/469 [==============================] - 2s 4ms/step - loss: 0.0185 - accuracy: 0.9938\n",
            "Epoch 8/15\n",
            "469/469 [==============================] - 2s 4ms/step - loss: 0.0189 - accuracy: 0.9937\n",
            "Epoch 9/15\n",
            "469/469 [==============================] - 2s 4ms/step - loss: 0.0136 - accuracy: 0.9954\n",
            "Epoch 10/15\n",
            "469/469 [==============================] - 2s 3ms/step - loss: 0.0120 - accuracy: 0.9959\n",
            "Epoch 11/15\n",
            "469/469 [==============================] - 2s 4ms/step - loss: 0.0126 - accuracy: 0.9955\n",
            "Epoch 12/15\n",
            "469/469 [==============================] - 2s 4ms/step - loss: 0.0086 - accuracy: 0.9973\n",
            "Epoch 13/15\n",
            "469/469 [==============================] - 2s 4ms/step - loss: 0.0114 - accuracy: 0.9965\n",
            "Epoch 14/15\n",
            "469/469 [==============================] - 2s 4ms/step - loss: 0.0115 - accuracy: 0.9963\n",
            "Epoch 15/15\n",
            "469/469 [==============================] - 2s 4ms/step - loss: 0.0099 - accuracy: 0.9969\n"
          ]
        },
        {
          "output_type": "execute_result",
          "data": {
            "text/plain": [
              "<keras.callbacks.History at 0x7f6de02d2c90>"
            ]
          },
          "metadata": {},
          "execution_count": 8
        }
      ]
    },
    {
      "cell_type": "markdown",
      "metadata": {
        "id": "tT248aNNKmDR"
      },
      "source": [
        "**Распознаем свою картинку**"
      ]
    },
    {
      "cell_type": "code",
      "metadata": {
        "colab": {
          "base_uri": "https://localhost:8080/"
        },
        "id": "A-PlC-9EtLI2",
        "outputId": "e44f8abd-fbba-4d97-f70f-911c9a50cfaf"
      },
      "source": [
        "# загрузим в окружение свои файлы для распознавания \n",
        "# цифры в цвете написанные от руки и сфотографированные с листка бумаги\n",
        "!wget http://m.ric.media/nu/2.jpg  # цифра 2\n",
        "!wget http://m.ric.media/nu/8.jpg  # цифра 8\n"
      ],
      "execution_count": 9,
      "outputs": [
        {
          "output_type": "stream",
          "name": "stdout",
          "text": [
            "--2021-11-21 18:32:14--  http://m.ric.media/nu/2.jpg\n",
            "Resolving m.ric.media (m.ric.media)... 176.213.150.19\n",
            "Connecting to m.ric.media (m.ric.media)|176.213.150.19|:80... connected.\n",
            "HTTP request sent, awaiting response... 200 OK\n",
            "Length: 22370 (22K) [image/jpeg]\n",
            "Saving to: ‘2.jpg’\n",
            "\n",
            "2.jpg               100%[===================>]  21.85K  --.-KB/s    in 0.07s   \n",
            "\n",
            "2021-11-21 18:32:14 (296 KB/s) - ‘2.jpg’ saved [22370/22370]\n",
            "\n",
            "--2021-11-21 18:32:14--  http://m.ric.media/nu/8.jpg\n",
            "Resolving m.ric.media (m.ric.media)... 176.213.150.19\n",
            "Connecting to m.ric.media (m.ric.media)|176.213.150.19|:80... connected.\n",
            "HTTP request sent, awaiting response... 200 OK\n",
            "Length: 21952 (21K) [image/jpeg]\n",
            "Saving to: ‘8.jpg’\n",
            "\n",
            "8.jpg               100%[===================>]  21.44K  --.-KB/s    in 0.07s   \n",
            "\n",
            "2021-11-21 18:32:14 (301 KB/s) - ‘8.jpg’ saved [21952/21952]\n",
            "\n"
          ]
        }
      ]
    },
    {
      "cell_type": "code",
      "metadata": {
        "id": "OItHQG3A3ToD"
      },
      "source": [
        "# напишем функцию загрузки вектора из картинки и вывода результата распознавания\n",
        "def print_pred(f_name):\n",
        "  # загружаем заранее скачанную картинку из окружения в переменную\n",
        "  # делаем resize до 28х28 и переводим в grayscale\n",
        "  img = image.load_img(f_name, target_size=(28, 28), color_mode = 'grayscale')\n",
        "  print('Оригинальная картинка')\n",
        "  plt.imshow(img.convert('RGB'))  # отрисовка картинки\n",
        "  plt.show()                      # вывод картинки\n",
        "  \n",
        "  # преобразуем изображение в numpy-массив\n",
        "  arr = image.img_to_array(img).reshape(1, 784) # получаем массив 1х784\n",
        "  # вычитаем из 255 значение цвета в grayscale и получаем инверсию цвета\n",
        "  for i in range(arr.shape[1]):\n",
        "    arr[0,i] = 255-arr[0,i] \n",
        "  print('Картинка после инверсии цветов')\n",
        "  plt.imshow(Image.fromarray(arr.reshape(28,28)).convert('RGB')) # отрисовка картинки\n",
        "  plt.show()                                                     # вывод картинки\n",
        "  #print(arr.shape)\n",
        "  #print(arr.dtype)\n",
        "\n",
        "  # нормирование значений для нейросети\n",
        "  # из-за шумов (цвет и оттенок бумаги на котором написана цифра) возьмем среднее значение как фон\n",
        "  # любое затемнение исходной картинки(или любое высветление у инверсированной картинки) более чем у фона и есть линия надписи\n",
        "  x = (arr - np.mean(arr)) / np.std(arr) # берем в долях: отклонение от среднего к стандартному отклонению\n",
        "  x[x<0] = 0                             # все значения с отрицательным отклонением(цвет ниже среднего значения фона) отметим как ноль  \n",
        "  # отобразим картинку после нормирования с усилением цвета, т.к. мы привели к значениям от 0 до 1, то умножим элементы массива на 70\n",
        "  print('Картинка после нормирования значений от шумов (усиленная)')\n",
        "  plt.imshow(Image.fromarray((x*70).reshape(28,28)).convert('RGB')) # отрисовка картинки\n",
        "  plt.show()                                                        # вывод картинки\n",
        "\n",
        "  pred = model.predict(x)[0]\n",
        "  print('Распознанное значение:', np.argmax(pred))\n",
        "  print('Значение вероятности:', pred[np.argmax(pred)])\n",
        "  print()\n"
      ],
      "execution_count": 10,
      "outputs": []
    },
    {
      "cell_type": "code",
      "metadata": {
        "colab": {
          "base_uri": "https://localhost:8080/",
          "height": 1000
        },
        "id": "6yVtF3z2BBVp",
        "outputId": "69203a14-0298-4402-e0b2-2e2c5fa7c0e8"
      },
      "source": [
        "# имена файлов для распознавания\n",
        "files_to_predict = '2.jpg', '8.jpg',\n",
        "\n",
        "# перебираем файлы и выводим отчет по каждому\n",
        "for f in files_to_predict:\n",
        "  print_pred(f)\n"
      ],
      "execution_count": 11,
      "outputs": [
        {
          "output_type": "stream",
          "name": "stdout",
          "text": [
            "Оригинальная картинка\n"
          ]
        },
        {
          "output_type": "display_data",
          "data": {
            "image/png": "[encoded data removed]",
            "text/plain": [
              "<Figure size 432x288 with 1 Axes>"
            ]
          },
          "metadata": {
            "needs_background": "light"
          }
        },
        {
          "output_type": "stream",
          "name": "stdout",
          "text": [
            "Картинка после инверсии цветов\n"
          ]
        },
        {
          "output_type": "display_data",
          "data": {
            "image/png": "[encoded data removed]",
            "text/plain": [
              "<Figure size 432x288 with 1 Axes>"
            ]
          },
          "metadata": {
            "needs_background": "light"
          }
        },
        {
          "output_type": "stream",
          "name": "stdout",
          "text": [
            "Картинка после нормирования значений от шумов (усиленная)\n"
          ]
        },
        {
          "output_type": "display_data",
          "data": {
            "image/png": "[encoded data removed]",
            "text/plain": [
              "<Figure size 432x288 with 1 Axes>"
            ]
          },
          "metadata": {
            "needs_background": "light"
          }
        },
        {
          "output_type": "stream",
          "name": "stdout",
          "text": [
            "Распознанное значение: 2\n",
            "Значение вероятности: 1.0\n",
            "\n",
            "Оригинальная картинка\n"
          ]
        },
        {
          "output_type": "display_data",
          "data": {
            "image/png": "[encoded data removed]",
            "text/plain": [
              "<Figure size 432x288 with 1 Axes>"
            ]
          },
          "metadata": {
            "needs_background": "light"
          }
        },
        {
          "output_type": "stream",
          "name": "stdout",
          "text": [
            "Картинка после инверсии цветов\n"
          ]
        },
        {
          "output_type": "display_data",
          "data": {
            "image/png": "[encoded data removed]",
            "text/plain": [
              "<Figure size 432x288 with 1 Axes>"
            ]
          },
          "metadata": {
            "needs_background": "light"
          }
        },
        {
          "output_type": "stream",
          "name": "stdout",
          "text": [
            "Картинка после нормирования значений от шумов (усиленная)\n"
          ]
        },
        {
          "output_type": "display_data",
          "data": {
            "image/png": "[encoded data removed]",
            "text/plain": [
              "<Figure size 432x288 with 1 Axes>"
            ]
          },
          "metadata": {
            "needs_background": "light"
          }
        },
        {
          "output_type": "stream",
          "name": "stdout",
          "text": [
            "Распознанное значение: 8\n",
            "Значение вероятности: 1.0\n",
            "\n"
          ]
        }
      ]
    },
    {
      "cell_type": "markdown",
      "metadata": {
        "id": "hVCRTnyuDtug"
      },
      "source": [
        "# Выводы:"
      ]
    },
    {
      "cell_type": "markdown",
      "metadata": {
        "id": "SOimnWGxD4rj"
      },
      "source": [
        "После попытки распознать картинки, которые идеально отцентрованы и с практически нулевым наклоном написания, стало очевидно что необходима более тщательная нормализация исходной картинки. Например, фон может быть не достаточно белым, что создает шум для нейросети, отличие фона от линии цифры не достаточно значимо. \n",
        "\n",
        "**После более тщательного нормирования качество распознавания значительно улучшилось.**"
      ]
    }
  ]
}